{
 "cells": [
  {
   "cell_type": "code",
   "execution_count": 4,
   "id": "5bf49020-1003-4133-b1da-b30858207a82",
   "metadata": {},
   "outputs": [],
   "source": [
    "import zipfile as zf\n",
    "files = zf.ZipFile(\"Train_Images 2.zip\")\n",
    "files.extractall(\"./train_images\")\n",
    "files.close()"
   ]
  },
  {
   "cell_type": "code",
   "execution_count": null,
   "id": "37619594-5753-4f60-a34f-eb16f55efac2",
   "metadata": {},
   "outputs": [],
   "source": [
    "import os\n",
    "import pandas as pd\n",
    "\n",
    "df = pd.read_csv(\"Train.csv\")\n",
    "\n",
    "base_dir = \"./train_images\"\n",
    "\n",
    "for row in df.rows:\n",
    "    filename = \"{}{}\".format(row[\"Image_ID\"], \".jpg\")\n",
    "    os.replace(\"{}{}\".format(base_dir, filename), \"{}{}{}\".format(base_dir, row[\"class\"], filename))"
   ]
  }
 ],
 "metadata": {
  "environment": {
   "kernel": "python3",
   "name": "tf2-gpu.2-6.m84",
   "type": "gcloud",
   "uri": "gcr.io/deeplearning-platform-release/tf2-gpu.2-6:m84"
  },
  "kernelspec": {
   "display_name": "Python 3",
   "language": "python",
   "name": "python3"
  },
  "language_info": {
   "codemirror_mode": {
    "name": "ipython",
    "version": 3
   },
   "file_extension": ".py",
   "mimetype": "text/x-python",
   "name": "python",
   "nbconvert_exporter": "python",
   "pygments_lexer": "ipython3",
   "version": "3.7.12"
  }
 },
 "nbformat": 4,
 "nbformat_minor": 5
}
