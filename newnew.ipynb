{
 "cells": [
  {
   "cell_type": "code",
   "execution_count": 5,
   "id": "3aebc43c-2873-4621-a1af-13b1b5ac5bb5",
   "metadata": {},
   "outputs": [],
   "source": [
    "import pandas as pd\n",
    "import numpy as np \n",
    "import itertools\n",
    "import keras\n",
    "from sklearn import metrics\n",
    "from sklearn.metrics import confusion_matrix\n",
    "from keras.preprocessing.image import ImageDataGenerator, img_to_array, load_img \n",
    "from keras.models import Sequential \n",
    "from keras import optimizers\n",
    "from keras.preprocessing import image\n",
    "from keras.layers import Dropout, Flatten, Dense \n",
    "from keras import applications \n",
    "from keras.utils.np_utils import to_categorical \n",
    "import matplotlib.pyplot as plt \n",
    "import matplotlib.image as mpimg\n",
    "%matplotlib inline\n",
    "import math \n",
    "import datetime\n",
    "import time\n",
    "import tensorflow as tf"
   ]
  },
  {
   "cell_type": "code",
   "execution_count": 6,
   "id": "d6ac4de4-d759-4158-af08-c245a0287aac",
   "metadata": {},
   "outputs": [],
   "source": [
    "img_width, img_height = 224, 224\n",
    "\n",
    "top_model_weights_path = 'bottleneck_fc_model.h5'\n",
    "\n",
    "train_data_dir = 'train_images/Train_Images/'\n",
    "# TODO: Validation and test?\n",
    "\n",
    "epochs = 8\n",
    "batch_size = 50"
   ]
  },
  {
   "cell_type": "code",
   "execution_count": 7,
   "id": "a263b182-62dd-4286-90ac-05d38e589d5b",
   "metadata": {},
   "outputs": [
    {
     "name": "stderr",
     "output_type": "stream",
     "text": [
      "2021-11-15 17:52:47.216559: I tensorflow/core/common_runtime/process_util.cc:146] Creating new thread pool with default inter op setting: 2. Tune using inter_op_parallelism_threads for best performance.\n"
     ]
    },
    {
     "name": "stdout",
     "output_type": "stream",
     "text": [
      "Downloading data from https://storage.googleapis.com/tensorflow/keras-applications/vgg16/vgg16_weights_tf_dim_ordering_tf_kernels_notop.h5\n",
      "58892288/58889256 [==============================] - 0s 0us/step\n",
      "58900480/58889256 [==============================] - 0s 0us/step\n"
     ]
    }
   ],
   "source": [
    "# Load the pre-built VGG16 Model\n",
    "vgg16 = tf.keras.applications.VGG16(include_top=False, weights='imagenet')\n",
    "\n",
    "datagen = ImageDataGenerator(rescale=1. /255)"
   ]
  },
  {
   "cell_type": "code",
   "execution_count": 9,
   "id": "7ad66e4b-f65e-42b8-9f42-27b0864e6cb3",
   "metadata": {},
   "outputs": [
    {
     "name": "stdout",
     "output_type": "stream",
     "text": [
      "Found 3002 images belonging to 3 classes.\n",
      "done\n"
     ]
    }
   ],
   "source": [
    "# Create weights and features using VGG16\n",
    "\n",
    "generator = datagen.flow_from_directory(\n",
    "    train_data_dir,\n",
    "    target_size=(img_width, img_height),\n",
    "    batch_size=batch_size,\n",
    "    class_mode='categorical',\n",
    "    shuffle=False\n",
    ")\n",
    "\n",
    "nb_train_samples = len(generator.filenames)\n",
    "num_classes = len(generator.class_indices)\n",
    "\n",
    "predict_size_train = int(math.ceil(nb_train_samples / batch_size))\n",
    "\n",
    "bottleneck_features_train = vgg16.predict(generator, predict_size_train)\n",
    "\n",
    "np.save('bottleneck_features_train.npy', bottleneck_features_train)\n",
    "print(\"done\")"
   ]
  },
  {
   "cell_type": "code",
   "execution_count": 10,
   "id": "1e1cb644-f232-4556-918b-18e890811e37",
   "metadata": {},
   "outputs": [
    {
     "name": "stdout",
     "output_type": "stream",
     "text": [
      "Found 3002 images belonging to 3 classes.\n"
     ]
    }
   ],
   "source": [
    "# Create a bottleneck file\n",
    "\n",
    "generator_top = datagen.flow_from_directory(\n",
    "    train_data_dir,\n",
    "    target_size=(img_width, img_height),\n",
    "    batch_size=batch_size,\n",
    "    class_mode='categorical',\n",
    "    shuffle=False\n",
    ")\n",
    "\n",
    "nb_train_samples = len(generator_top.filenames)\n",
    "num_classes = len(generator_top.class_indices)\n",
    "\n",
    "train_data = np.load('bottleneck_features_train.npy')\n",
    "train_labels = generator_top.classes\n",
    "train_labels = to_categorical(train_labels, num_classes=num_classes)"
   ]
  },
  {
   "cell_type": "code",
   "execution_count": 14,
   "id": "29c52112-b45d-4393-9964-514737827806",
   "metadata": {},
   "outputs": [
    {
     "name": "stdout",
     "output_type": "stream",
     "text": [
      "Model: \"sequential_3\"\n",
      "_________________________________________________________________\n",
      "Layer (type)                 Output Shape              Param #   \n",
      "=================================================================\n",
      "flatten_3 (Flatten)          (None, 25088)             0         \n",
      "_________________________________________________________________\n",
      "dense_11 (Dense)             (None, 100)               2508900   \n",
      "_________________________________________________________________\n",
      "dropout_6 (Dropout)          (None, 100)               0         \n",
      "_________________________________________________________________\n",
      "dense_12 (Dense)             (None, 75)                7575      \n",
      "_________________________________________________________________\n",
      "dense_13 (Dense)             (None, 50)                3800      \n",
      "_________________________________________________________________\n",
      "dropout_7 (Dropout)          (None, 50)                0         \n",
      "_________________________________________________________________\n",
      "dense_14 (Dense)             (None, 3)                 153       \n",
      "=================================================================\n",
      "Total params: 2,520,428\n",
      "Trainable params: 2,520,428\n",
      "Non-trainable params: 0\n",
      "_________________________________________________________________\n",
      "Epoch 1/20\n",
      "55/55 [==============================] - 2s 37ms/step - loss: 1.0550 - accuracy: 0.5113 - val_loss: 0.8927 - val_accuracy: 0.5415\n",
      "Epoch 2/20\n",
      "55/55 [==============================] - 1s 20ms/step - loss: 0.7094 - accuracy: 0.6872 - val_loss: 0.7911 - val_accuracy: 0.6279\n",
      "Epoch 3/20\n",
      "55/55 [==============================] - 2s 32ms/step - loss: 0.6177 - accuracy: 0.7060 - val_loss: 1.0109 - val_accuracy: 0.4784\n",
      "Epoch 4/20\n",
      "55/55 [==============================] - 2s 37ms/step - loss: 0.5395 - accuracy: 0.7697 - val_loss: 0.9750 - val_accuracy: 0.7409\n",
      "Epoch 5/20\n",
      "55/55 [==============================] - 2s 37ms/step - loss: 0.4941 - accuracy: 0.8038 - val_loss: 0.8583 - val_accuracy: 0.7940\n",
      "Epoch 6/20\n",
      "55/55 [==============================] - 2s 39ms/step - loss: 0.4576 - accuracy: 0.8130 - val_loss: 0.7419 - val_accuracy: 0.8671\n",
      "Epoch 7/20\n",
      "55/55 [==============================] - 2s 33ms/step - loss: 0.4311 - accuracy: 0.8208 - val_loss: 0.5360 - val_accuracy: 0.9635\n",
      "Epoch 8/20\n",
      "55/55 [==============================] - 2s 34ms/step - loss: 0.4483 - accuracy: 0.8256 - val_loss: 0.7823 - val_accuracy: 0.8239\n",
      "Epoch 9/20\n",
      "55/55 [==============================] - 2s 34ms/step - loss: 0.4371 - accuracy: 0.8175 - val_loss: 0.7635 - val_accuracy: 0.8040\n",
      "Epoch 10/20\n",
      "55/55 [==============================] - 2s 36ms/step - loss: 0.4233 - accuracy: 0.8301 - val_loss: 0.7457 - val_accuracy: 0.8771\n",
      "Epoch 11/20\n",
      "55/55 [==============================] - 2s 29ms/step - loss: 0.4512 - accuracy: 0.8201 - val_loss: 0.7281 - val_accuracy: 0.8738\n",
      "Epoch 12/20\n",
      "55/55 [==============================] - 2s 31ms/step - loss: 0.5095 - accuracy: 0.7842 - val_loss: 0.7954 - val_accuracy: 0.8671\n",
      "Epoch 13/20\n",
      "55/55 [==============================] - 2s 29ms/step - loss: 0.4653 - accuracy: 0.8027 - val_loss: 0.7567 - val_accuracy: 0.8738\n",
      "Epoch 14/20\n",
      "55/55 [==============================] - 2s 34ms/step - loss: 0.4736 - accuracy: 0.7993 - val_loss: 0.8453 - val_accuracy: 0.8538\n",
      "Epoch 15/20\n",
      "55/55 [==============================] - 2s 39ms/step - loss: 0.4724 - accuracy: 0.7960 - val_loss: 0.8897 - val_accuracy: 0.8505\n",
      "Epoch 16/20\n",
      "55/55 [==============================] - 2s 42ms/step - loss: 0.4588 - accuracy: 0.8060 - val_loss: 0.6818 - val_accuracy: 0.9369\n",
      "Epoch 17/20\n",
      "55/55 [==============================] - 2s 39ms/step - loss: 0.4613 - accuracy: 0.8012 - val_loss: 0.8454 - val_accuracy: 0.8738\n",
      "Epoch 18/20\n",
      "55/55 [==============================] - 2s 41ms/step - loss: 0.4535 - accuracy: 0.8116 - val_loss: 0.8186 - val_accuracy: 0.8638\n",
      "Epoch 19/20\n",
      "55/55 [==============================] - 2s 35ms/step - loss: 0.4402 - accuracy: 0.8193 - val_loss: 0.8040 - val_accuracy: 0.8671\n",
      "Epoch 20/20\n",
      "55/55 [==============================] - 2s 41ms/step - loss: 0.4719 - accuracy: 0.7982 - val_loss: 0.9566 - val_accuracy: 0.8272\n"
     ]
    }
   ],
   "source": [
    "# Create a network\n",
    "\n",
    "model = Sequential()\n",
    "\n",
    "model.add(Flatten(input_shape=train_data.shape[1:]))\n",
    "model.add(Dense(100, activation='relu'))\n",
    "model.add(Dropout(0.5))\n",
    "model.add(Dense(75, activation='relu'))\n",
    "model.add(Dense(50, activation='relu'))\n",
    "model.add(Dropout(0.3))\n",
    "model.add(Dense(num_classes, activation='softmax'))\n",
    "\n",
    "model.compile(loss='categorical_crossentropy',\n",
    "              optimizer='adam',\n",
    "              metrics=['accuracy'])\n",
    "model.summary()\n",
    "history = model.fit(train_data, train_labels, epochs=20, batch_size=batch_size, validation_split=0.1)"
   ]
  },
  {
   "cell_type": "code",
   "execution_count": 17,
   "id": "8dc63e54-6590-41bd-9854-562de4638e3c",
   "metadata": {},
   "outputs": [
    {
     "data": {
      "image/png": "[encoded data removed]",
      "text/plain": [
       "<Figure size 432x288 with 1 Axes>"
      ]
     },
     "metadata": {
      "needs_background": "light"
     },
     "output_type": "display_data"
    },
    {
     "data": {
      "image/png": "[encoded data removed]",
      "text/plain": [
       "<Figure size 432x288 with 1 Axes>"
      ]
     },
     "metadata": {
      "needs_background": "light"
     },
     "output_type": "display_data"
    }
   ],
   "source": [
    "#Graphing our training and validation\n",
    "acc = history.history['accuracy']\n",
    "val_acc = history.history['val_accuracy']\n",
    "loss = history.history['loss']\n",
    "val_loss = history.history['val_loss']\n",
    "epochs = range(len(acc))\n",
    "plt.plot(epochs, acc, 'r', label='Training acc')\n",
    "plt.plot(epochs, val_acc, 'b', label='Validation acc')\n",
    "plt.title('Training and validation accuracy')\n",
    "plt.ylabel('accuracy') \n",
    "plt.xlabel('epoch')\n",
    "plt.legend()\n",
    "plt.figure()\n",
    "plt.plot(epochs, loss, 'r', label='Training loss')\n",
    "plt.plot(epochs, val_loss, 'b', label='Validation loss')\n",
    "plt.title('Training and validation loss')\n",
    "plt.ylabel('loss') \n",
    "plt.xlabel('epoch')\n",
    "plt.legend()\n",
    "plt.show()"
   ]
  },
  {
   "cell_type": "code",
   "execution_count": null,
   "id": "884e45fd-d306-4923-a1b2-29c03885ac29",
   "metadata": {},
   "outputs": [],
   "source": []
  }
 ],
 "metadata": {
  "environment": {
   "kernel": "python3",
   "name": "tf2-gpu.2-6.m84",
   "type": "gcloud",
   "uri": "gcr.io/deeplearning-platform-release/tf2-gpu.2-6:m84"
  },
  "kernelspec": {
   "display_name": "Python 3",
   "language": "python",
   "name": "python3"
  },
  "language_info": {
   "codemirror_mode": {
    "name": "ipython",
    "version": 3
   },
   "file_extension": ".py",
   "mimetype": "text/x-python",
   "name": "python",
   "nbconvert_exporter": "python",
   "pygments_lexer": "ipython3",
   "version": "3.7.12"
  }
 },
 "nbformat": 4,
 "nbformat_minor": 5
}
